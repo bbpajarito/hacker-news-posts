{
 "cells": [
  {
   "cell_type": "markdown",
   "metadata": {},
   "source": [
    "# Exploring Hacker News Posts"
   ]
  },
  {
   "cell_type": "markdown",
   "metadata": {},
   "source": [
    "In this guided project by Dataquest (DQ), I worked with a data set of submissions to [Hacker News](https://news.ycombinator.com/) (HN), [\"a social news website focusing on computer science and entrepreneurship\"](https://en.wikipedia.org/wiki/Hacker_News). According to DQ, HN was started by the startup incubator Y Combinator, where user-submitted stories or \"posts\" are voted and commented upon, similar to Reddit. HN is extremely popular in technology and startup circles, and posts that make it to the top of HN's listings can get hundreds of thousands of visitors as a result. \n",
    "\n",
    "DQ provided the data set that I used for analysis. To produce the data set, DQ initially removed the submissions without comments from the original [data set](https://www.kaggle.com/hacker-news/hacker-news-posts/) and performed a random sampling of the remaining submissions. In the data set, I am interested in posts whose titles begin with `Ask HN` or `Show HN`. Users submit `Ask HN` posts to ask the HN community a specific question. Meanwhile, `Show HN` posts present the HN community an interesting product or project. In this project, I wanted to know the following:\n",
    "\n",
    "* Do `Ask HN` or `Show HN` posts receive more comments on average?\n",
    "* Do posts created at a certain time receive more comments on average?\n",
    "* Do `Ask HN` or `Show HN` posts receive more upvotes or points on average?\n",
    "* Do posts created at a certain time receive more points on average?\n",
    "* Do posts other than `Ask HN` or `Show HN` receive more comments and points on average?"
   ]
  },
  {
   "cell_type": "markdown",
   "metadata": {},
   "source": [
    "## Introduction"
   ]
  },
  {
   "cell_type": "markdown",
   "metadata": {},
   "source": [
    "I first opened and explored the data set. "
   ]
  },
  {
   "cell_type": "code",
   "execution_count": 1,
   "metadata": {},
   "outputs": [
    {
     "name": "stdout",
     "output_type": "stream",
     "text": [
      "['id', 'title', 'url', 'num_points', 'num_comments', 'author', 'created_at']\n"
     ]
    },
    {
     "data": {
      "text/plain": [
       "[['12224879',\n",
       "  'Interactive Dynamic Video',\n",
       "  'http://www.interactivedynamicvideo.com/',\n",
       "  '386',\n",
       "  '52',\n",
       "  'ne0phyte',\n",
       "  '8/4/2016 11:52'],\n",
       " ['10975351',\n",
       "  'How to Use Open Source and Shut the Fuck Up at the Same Time',\n",
       "  'http://hueniverse.com/2016/01/26/how-to-use-open-source-and-shut-the-fuck-up-at-the-same-time/',\n",
       "  '39',\n",
       "  '10',\n",
       "  'josep2',\n",
       "  '1/26/2016 19:30'],\n",
       " ['11964716',\n",
       "  \"Florida DJs May Face Felony for April Fools' Water Joke\",\n",
       "  'http://www.thewire.com/entertainment/2013/04/florida-djs-april-fools-water-joke/63798/',\n",
       "  '2',\n",
       "  '1',\n",
       "  'vezycash',\n",
       "  '6/23/2016 22:20'],\n",
       " ['11919867',\n",
       "  'Technology ventures: From Idea to Enterprise',\n",
       "  'https://www.amazon.com/Technology-Ventures-Enterprise-Thomas-Byers/dp/0073523429',\n",
       "  '3',\n",
       "  '1',\n",
       "  'hswarna',\n",
       "  '6/17/2016 0:01'],\n",
       " ['10301696',\n",
       "  'Note by Note: The Making of Steinway L1037 (2007)',\n",
       "  'http://www.nytimes.com/2007/11/07/movies/07stein.html?_r=0',\n",
       "  '8',\n",
       "  '2',\n",
       "  'walterbell',\n",
       "  '9/30/2015 4:12']]"
      ]
     },
     "execution_count": 1,
     "metadata": {},
     "output_type": "execute_result"
    }
   ],
   "source": [
    "from csv import reader\n",
    "\n",
    "opened_file = open('hacker_news.csv')\n",
    "read_file = reader(opened_file)\n",
    "hn = list(read_file)\n",
    "\n",
    "headers = hn[0]\n",
    "hn = hn[1:]\n",
    "\n",
    "print(headers)\n",
    "hn[0:5]"
   ]
  },
  {
   "cell_type": "markdown",
   "metadata": {},
   "source": [
    "The data set `hn` has the following columns:\n",
    "\n",
    "* `id` - A unique identifier from HN for the post\n",
    "* `title` - The title of the post\n",
    "* `url` - The url of the item being linked to \n",
    "* `num_points` - The number of upvotes the post received\n",
    "* `num_comments` - The number of comments the post received\n",
    "* `author` - The name of the account that made the post\n",
    "* `created_at` - The date and time the post was made (the time zone is Eastern Time in the US)"
   ]
  },
  {
   "cell_type": "markdown",
   "metadata": {},
   "source": [
    "## Extracting `Ask HN` and `Show HN` Posts"
   ]
  },
  {
   "cell_type": "markdown",
   "metadata": {},
   "source": [
    "I looped through each row of the `hn` data set and extracted the entries with a `title` that starts with `Ask HN` (`ask_posts`) or `Show HN` (`show_posts`). I saved the remaining posts to `other_posts`. `Ask HN` and `Show HN` posts have 1,744 and 1,162 entries while the other posts have 17,194 entries. "
   ]
  },
  {
   "cell_type": "code",
   "execution_count": 2,
   "metadata": {},
   "outputs": [
    {
     "name": "stdout",
     "output_type": "stream",
     "text": [
      "Ask HN posts have 1744 entries.\n",
      "Show HN posts have 1162 entries.\n",
      "Other posts have 17194 entries.\n"
     ]
    }
   ],
   "source": [
    "ask_posts = []\n",
    "show_posts = []\n",
    "other_posts = []\n",
    "\n",
    "for row in hn:\n",
    "    title = row[1]\n",
    "    \n",
    "    if title.lower().startswith('ask hn'):\n",
    "        ask_posts.append(row)\n",
    "    elif title.lower().startswith('show hn'):\n",
    "        show_posts.append(row)\n",
    "    else:\n",
    "        other_posts.append(row)\n",
    "\n",
    "print('Ask HN posts have' ,len(ask_posts), 'entries.')\n",
    "print('Show HN posts have', len(show_posts), 'entries.')\n",
    "print('Other posts have', len(other_posts), 'entries.')"
   ]
  },
  {
   "cell_type": "markdown",
   "metadata": {},
   "source": [
    "## Calculating the Average Number of Comments for `Ask HN` and `Show HN` Posts"
   ]
  },
  {
   "cell_type": "markdown",
   "metadata": {},
   "source": [
    "After the extraction and separation of `Ask HN` and `Show HN` posts from the `hn` data set, I calculated the average number of comments per post using the `num_comment` column. Results show that on the average, `Ask HN` posts receive 14 comments per post while `Show HN` posts get 10 comments per post. "
   ]
  },
  {
   "cell_type": "code",
   "execution_count": 3,
   "metadata": {},
   "outputs": [
    {
     "name": "stdout",
     "output_type": "stream",
     "text": [
      "The average number of comments for Ask HN posts is 14.04 comments per post.\n",
      "The average number of comments for Show HN posts is 10.32 comments per post.\n"
     ]
    }
   ],
   "source": [
    "total_ask_comments = 0\n",
    "for row in ask_posts:\n",
    "    n_comments = int(row[4])\n",
    "    total_ask_comments += n_comments\n",
    "\n",
    "avg_ask_comments = total_ask_comments/len(ask_posts)\n",
    "print('The average number of comments for Ask HN posts is', round(avg_ask_comments, 2), 'comments per post.')\n",
    "\n",
    "total_show_comments = 0\n",
    "for row in show_posts:\n",
    "    n_comments = int(row[4])\n",
    "    total_show_comments += n_comments\n",
    "\n",
    "avg_show_comments = total_show_comments/len(show_posts)\n",
    "print('The average number of comments for Show HN posts is', round(avg_show_comments, 2),'comments per post.')"
   ]
  },
  {
   "cell_type": "markdown",
   "metadata": {},
   "source": [
    "## Finding the Number of Ask Posts and Comments by Hour Created"
   ]
  },
  {
   "cell_type": "markdown",
   "metadata": {},
   "source": [
    "Since `Ask HN` posts receive more comments than `Show HN` posts, I used the `ask_posts` data set to determine the number of posts and comments by hour created (`created_at` column). Results indicate that the highest number of `Ask HN` posts (116 posts) and comments (4,477 comments) were both observed at 15:00.  "
   ]
  },
  {
   "cell_type": "code",
   "execution_count": 4,
   "metadata": {},
   "outputs": [
    {
     "name": "stdout",
     "output_type": "stream",
     "text": [
      "Hour : Posts : Comments\n",
      "00 : 55 : 447\n",
      "01 : 60 : 683\n",
      "02 : 58 : 1381\n",
      "03 : 54 : 421\n",
      "04 : 47 : 337\n",
      "05 : 46 : 464\n",
      "06 : 44 : 397\n",
      "07 : 34 : 267\n",
      "08 : 48 : 492\n",
      "09 : 45 : 251\n",
      "10 : 59 : 793\n",
      "11 : 58 : 641\n",
      "12 : 73 : 687\n",
      "13 : 85 : 1253\n",
      "14 : 107 : 1416\n",
      "15 : 116 : 4477\n",
      "16 : 108 : 1814\n",
      "17 : 100 : 1146\n",
      "18 : 109 : 1439\n",
      "19 : 110 : 1188\n",
      "20 : 80 : 1722\n",
      "21 : 109 : 1745\n",
      "22 : 71 : 479\n",
      "23 : 68 : 543\n"
     ]
    }
   ],
   "source": [
    "import datetime as dt\n",
    "\n",
    "result_list = []\n",
    "for row in ask_posts:\n",
    "    date_comment = [row[6], int(row[4])]\n",
    "    result_list.append(date_comment)\n",
    "\n",
    "counts_by_hour = {}\n",
    "comments_by_hour = {}\n",
    "\n",
    "for row in result_list:\n",
    "    date_dt = dt.datetime.strptime(row[0], '%m/%d/%Y %H:%M')\n",
    "    hour_str = date_dt.strftime('%H')\n",
    "    \n",
    "    if hour_str not in counts_by_hour:\n",
    "        counts_by_hour[hour_str] = 1\n",
    "        comments_by_hour[hour_str] = row[1]\n",
    "    else:\n",
    "        counts_by_hour[hour_str] += 1\n",
    "        comments_by_hour[hour_str] += row[1]\n",
    "\n",
    "print('Hour : Posts : Comments')\n",
    "for key in sorted(counts_by_hour.keys()):\n",
    "    print(key , \":\" , counts_by_hour[key], \":\", comments_by_hour[key])\n",
    "    "
   ]
  },
  {
   "cell_type": "markdown",
   "metadata": {},
   "source": [
    "## Calculating the Average Number of Comments for Ask HN Posts by Hour"
   ]
  },
  {
   "cell_type": "markdown",
   "metadata": {},
   "source": [
    "I then calculated the average number of comments per `Ask HN` post by the hour.  After sorting, I observed the highest average value (38.59 comments per post) at 15:00. This means that for an `Ask HN` post to receive more comments, it must be posted at around 3:00 EST. "
   ]
  },
  {
   "cell_type": "code",
   "execution_count": 5,
   "metadata": {},
   "outputs": [
    {
     "name": "stdout",
     "output_type": "stream",
     "text": [
      "Hour, Comments per post\n"
     ]
    },
    {
     "data": {
      "text/plain": [
       "[['00', 8.13],\n",
       " ['01', 11.38],\n",
       " ['02', 23.81],\n",
       " ['03', 7.8],\n",
       " ['04', 7.17],\n",
       " ['05', 10.09],\n",
       " ['06', 9.02],\n",
       " ['07', 7.85],\n",
       " ['08', 10.25],\n",
       " ['09', 5.58],\n",
       " ['10', 13.44],\n",
       " ['11', 11.05],\n",
       " ['12', 9.41],\n",
       " ['13', 14.74],\n",
       " ['14', 13.23],\n",
       " ['15', 38.59],\n",
       " ['16', 16.8],\n",
       " ['17', 11.46],\n",
       " ['18', 13.2],\n",
       " ['19', 10.8],\n",
       " ['20', 21.52],\n",
       " ['21', 16.01],\n",
       " ['22', 6.75],\n",
       " ['23', 7.99]]"
      ]
     },
     "execution_count": 5,
     "metadata": {},
     "output_type": "execute_result"
    }
   ],
   "source": [
    "avg_by_hour = []\n",
    "for key in counts_by_hour:\n",
    "    avg_by_hour.append([key, round(comments_by_hour[key]/counts_by_hour[key], 2)])\n",
    "\n",
    "print('Hour, Comments per post')\n",
    "sorted(avg_by_hour)"
   ]
  },
  {
   "cell_type": "code",
   "execution_count": 6,
   "metadata": {
    "scrolled": true
   },
   "outputs": [
    {
     "name": "stdout",
     "output_type": "stream",
     "text": [
      "Top 5 Hours for Ask Posts Comments\n",
      "15:00: 38.59 comments per post\n",
      "02:00: 23.81 comments per post\n",
      "20:00: 21.52 comments per post\n",
      "16:00: 16.8 comments per post\n",
      "21:00: 16.01 comments per post\n"
     ]
    }
   ],
   "source": [
    "swap_avg_by_hour = []\n",
    "for row in avg_by_hour:\n",
    "    swap_avg_by_hour.append([row[1], row[0]])\n",
    "    \n",
    "sorted_swap = sorted(swap_avg_by_hour, reverse=True)\n",
    "print('Top 5 Hours for Ask Posts Comments')\n",
    "\n",
    "for row in sorted_swap[:5]:\n",
    "    hour = dt.datetime.strptime(row[1], '%H').strftime('%H:%M')\n",
    "    print('{}: {} comments per post'.format(hour, row[0]))\n",
    "    "
   ]
  },
  {
   "cell_type": "markdown",
   "metadata": {},
   "source": [
    "## Calculating the Average Number of Points for `Ask HN` and `Show HN` Posts"
   ]
  },
  {
   "cell_type": "markdown",
   "metadata": {},
   "source": [
    "Aside from the average number of comments, I also calculated the average number of upvotes or points per post for `Ask HN` and `Show HN` posts using the `num_points` column. Similar to the number of comments, results show that on the average, `Ask HN` posts have a higher number of points (15.06 points per post) than `Show HN` posts (10.32 points per post). "
   ]
  },
  {
   "cell_type": "code",
   "execution_count": 7,
   "metadata": {},
   "outputs": [
    {
     "name": "stdout",
     "output_type": "stream",
     "text": [
      "The average number of points for Ask HN posts is 15.06 points per post.\n",
      "The average number of points for Show HN posts is 10.32 points per post.\n"
     ]
    }
   ],
   "source": [
    "total_ask_points = 0\n",
    "for row in ask_posts:\n",
    "    n_points = int(row[3])\n",
    "    total_ask_points += n_points\n",
    "\n",
    "avg_ask_points = total_ask_points/len(ask_posts)\n",
    "print('The average number of points for Ask HN posts is', round(avg_ask_points, 2), 'points per post.')\n",
    "\n",
    "total_show_points = 0\n",
    "for row in show_posts:\n",
    "    n_points = int(row[3])\n",
    "    total_show_points += n_points\n",
    "\n",
    "avg_show_points = total_show_points/len(show_posts)\n",
    "print('The average number of points for Show HN posts is', round(avg_show_comments, 2), 'points per post.')"
   ]
  },
  {
   "cell_type": "markdown",
   "metadata": {},
   "source": [
    "## Finding the Number of Points by Hour Created for `Ask HN` Posts"
   ]
  },
  {
   "cell_type": "markdown",
   "metadata": {},
   "source": [
    "Since `Ask HN` posts receive more points than `Show HN` posts, I determined the number of points by hour created for `Ask HN` posts. Similar to the number of posts and comments, I observed the highest number of points (3,479 points) at 15:00. "
   ]
  },
  {
   "cell_type": "code",
   "execution_count": 8,
   "metadata": {},
   "outputs": [
    {
     "name": "stdout",
     "output_type": "stream",
     "text": [
      "Hour : Points\n",
      "00 : 451\n",
      "01 : 700\n",
      "02 : 793\n",
      "03 : 374\n",
      "04 : 389\n",
      "05 : 552\n",
      "06 : 591\n",
      "07 : 361\n",
      "08 : 515\n",
      "09 : 329\n",
      "10 : 1102\n",
      "11 : 825\n",
      "12 : 782\n",
      "13 : 2062\n",
      "14 : 1282\n",
      "15 : 3479\n",
      "16 : 2522\n",
      "17 : 1941\n",
      "18 : 1741\n",
      "19 : 1513\n",
      "20 : 1151\n",
      "21 : 1721\n",
      "22 : 511\n",
      "23 : 581\n"
     ]
    }
   ],
   "source": [
    "points_by_hour = {}\n",
    "for row in ask_posts:\n",
    "    hour_str = dt.datetime.strptime(row[6], '%m/%d/%Y %H:%M').strftime('%H')\n",
    "    \n",
    "    if hour_str not in points_by_hour:\n",
    "        points_by_hour[hour_str] = int(row[3])\n",
    "    else:\n",
    "        points_by_hour[hour_str] += int(row[3])\n",
    "\n",
    "print('Hour : Points')\n",
    "for key in sorted(points_by_hour.keys()):\n",
    "    print(key , \":\" , points_by_hour[key])"
   ]
  },
  {
   "cell_type": "markdown",
   "metadata": {},
   "source": [
    "## Calculating the Average Number of Points for Ask HN Posts by Hour"
   ]
  },
  {
   "cell_type": "markdown",
   "metadata": {},
   "source": [
    "I also calculated the average number of points per `Ask HN` post by the hour. I observed the highest average value (30 points per post) at 15:00. Thus, aside from receiving a high number of comments, an `Ask HN` post created around 3:00 EST will also receive a high number of upvotes. "
   ]
  },
  {
   "cell_type": "code",
   "execution_count": 9,
   "metadata": {},
   "outputs": [
    {
     "name": "stdout",
     "output_type": "stream",
     "text": [
      "Hour, Points per post\n"
     ]
    },
    {
     "data": {
      "text/plain": [
       "[['00', 8.2],\n",
       " ['01', 11.67],\n",
       " ['02', 13.67],\n",
       " ['03', 6.93],\n",
       " ['04', 8.28],\n",
       " ['05', 12.0],\n",
       " ['06', 13.43],\n",
       " ['07', 10.62],\n",
       " ['08', 10.73],\n",
       " ['09', 7.31],\n",
       " ['10', 18.68],\n",
       " ['11', 14.22],\n",
       " ['12', 10.71],\n",
       " ['13', 24.26],\n",
       " ['14', 11.98],\n",
       " ['15', 29.99],\n",
       " ['16', 23.35],\n",
       " ['17', 19.41],\n",
       " ['18', 15.97],\n",
       " ['19', 13.75],\n",
       " ['20', 14.39],\n",
       " ['21', 15.79],\n",
       " ['22', 7.2],\n",
       " ['23', 8.54]]"
      ]
     },
     "execution_count": 9,
     "metadata": {},
     "output_type": "execute_result"
    }
   ],
   "source": [
    "avg_points_by_hour = []\n",
    "for key in counts_by_hour:\n",
    "    avg_points_by_hour.append([key, round(points_by_hour[key]/counts_by_hour[key], 2)])\n",
    "\n",
    "print('Hour, Points per post')\n",
    "sorted(avg_points_by_hour)"
   ]
  },
  {
   "cell_type": "code",
   "execution_count": 10,
   "metadata": {},
   "outputs": [
    {
     "name": "stdout",
     "output_type": "stream",
     "text": [
      "Top 5 Hours for Ask Posts Points\n",
      "15:00: 29.99 points per post\n",
      "13:00: 24.26 points per post\n",
      "16:00: 23.35 points per post\n",
      "17:00: 19.41 points per post\n",
      "10:00: 18.68 points per post\n"
     ]
    }
   ],
   "source": [
    "swap_avgpts_by_hour = []\n",
    "for row in avg_points_by_hour:\n",
    "    swap_avgpts_by_hour.append([row[1], row[0]])\n",
    "    \n",
    "sorted_swap_pts = sorted(swap_avgpts_by_hour, reverse=True)\n",
    "print('Top 5 Hours for Ask Posts Points')\n",
    "\n",
    "for row in sorted_swap_pts[:5]:\n",
    "    hour = dt.datetime.strptime(row[1], '%H').strftime('%H:%M')\n",
    "    print('{}: {} points per post'.format(hour, row[0]))"
   ]
  },
  {
   "cell_type": "markdown",
   "metadata": {},
   "source": [
    "## Average Number of Comments and Points for Other Posts"
   ]
  },
  {
   "cell_type": "markdown",
   "metadata": {},
   "source": [
    "For comparison to `Ask HN` and `Show HN` posts, I obtained the average number of comments and points for the other posts (`other_posts` data set). Due to its large number of entries, other posts have a higher average number of comments (26.87 comments per post) and points (55.41 points per post) than `Ask HN` and `Show HN` posts. "
   ]
  },
  {
   "cell_type": "code",
   "execution_count": 11,
   "metadata": {},
   "outputs": [
    {
     "name": "stdout",
     "output_type": "stream",
     "text": [
      "The average number of comments for other posts is 26.87 comments per post.\n",
      "The average number of points for other posts is 55.41 points per post.\n"
     ]
    }
   ],
   "source": [
    "total_other_comments = 0\n",
    "total_other_points = 0\n",
    "for row in other_posts:\n",
    "    n_comments = int(row[4])\n",
    "    n_points = int(row[3])\n",
    "    total_other_comments += n_comments\n",
    "    total_other_points += n_points\n",
    "\n",
    "avg_other_comments = total_other_comments/len(other_posts)\n",
    "avg_other_points = total_other_points/len(other_posts)\n",
    "\n",
    "print('The average number of comments for other posts is', round(avg_other_comments, 2), 'comments per post.')\n",
    "print('The average number of points for other posts is', round(avg_other_points, 2), 'points per post.')"
   ]
  },
  {
   "cell_type": "markdown",
   "metadata": {},
   "source": [
    "## Conclusion"
   ]
  },
  {
   "cell_type": "markdown",
   "metadata": {},
   "source": [
    "Based on my data analysis, to maximize the number of comments and upvotes a post receives, the post must be classified as an `Ask HN` post and created between 3:00 - 4:00 EST. "
   ]
  }
 ],
 "metadata": {
  "kernelspec": {
   "display_name": "Python 3",
   "language": "python",
   "name": "python3"
  },
  "language_info": {
   "codemirror_mode": {
    "name": "ipython",
    "version": 3
   },
   "file_extension": ".py",
   "mimetype": "text/x-python",
   "name": "python",
   "nbconvert_exporter": "python",
   "pygments_lexer": "ipython3",
   "version": "3.7.3"
  }
 },
 "nbformat": 4,
 "nbformat_minor": 2
}
